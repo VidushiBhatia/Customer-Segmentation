{
  "nbformat": 4,
  "nbformat_minor": 5,
  "metadata": {
    "kernelspec": {
      "display_name": "Python 3",
      "language": "python",
      "name": "python3"
    },
    "language_info": {
      "codemirror_mode": {
        "name": "ipython",
        "version": 3
      },
      "file_extension": ".py",
      "mimetype": "text/x-python",
      "name": "python",
      "nbconvert_exporter": "python",
      "pygments_lexer": "ipython3",
      "version": "3.8.8"
    },
    "colab": {
      "name": "Customer Segmentation - Complete Data Science Pipeline.ipynb",
      "provenance": [],
      "include_colab_link": true
    }
  },
  "cells": [
    {
      "cell_type": "markdown",
      "metadata": {
        "id": "view-in-github",
        "colab_type": "text"
      },
      "source": [
        "<a href=\"https://colab.research.google.com/github/VidushiBhatia/Customer-Segmentation/blob/main/Customer%20Segmentation%20-%20Complete%20Data%20Science%20Pipeline.ipynb\" target=\"_parent\"><img src=\"https://colab.research.google.com/assets/colab-badge.svg\" alt=\"Open In Colab\"/></a>"
      ]
    },
    {
      "cell_type": "markdown",
      "metadata": {
        "id": "f256468c"
      },
      "source": [
        "# Customer Segmentation - Data Preparation"
      ],
      "id": "f256468c"
    },
    {
      "cell_type": "markdown",
      "metadata": {
        "id": "13327d31"
      },
      "source": [
        "## 1. Packages"
      ],
      "id": "13327d31"
    },
    {
      "cell_type": "code",
      "metadata": {
        "id": "067b35d2"
      },
      "source": [
        "import pandas as pd\n",
        "import matplotlib.pyplot as plt\n",
        "import matplotlib as mpl\n",
        "import seaborn as sns\n",
        "import os"
      ],
      "id": "067b35d2",
      "execution_count": 6,
      "outputs": []
    },
    {
      "cell_type": "markdown",
      "metadata": {
        "id": "475dc376"
      },
      "source": [
        "### Objective:\n",
        "\n",
        "The dataset for this competition is a relational set of files describing customers' orders over time. The goal of the competition is to predict which products will be in a user's next order. The dataset is anonymized and contains a sample of over 3 million grocery orders from more than 200,000 Instacart users. For each user, we provide between 4 and 100 of their orders, with the sequence of products purchased in each order. We also provide the week and hour of day the order was placed, and a relative measure of time between orders. For more information, see the blog post accompanying its public release."
      ],
      "id": "475dc376"
    },
    {
      "cell_type": "markdown",
      "metadata": {
        "id": "1c64bdcc"
      },
      "source": [
        "[Original Blog Post from InstaCart](https://tech.instacart.com/3-million-instacart-orders-open-sourced-d40d29ead6f2)"
      ],
      "id": "1c64bdcc"
    },
    {
      "cell_type": "markdown",
      "metadata": {
        "id": "5f7b2282"
      },
      "source": [
        "## 2. Exploratory Data Analysis\n",
        "Before we create a data-driven solution, we'll first understand what does the data consist of:\n",
        "   * Read all the files\n",
        "   * Look at columns and get a sense of which table has what and how it could be used - note these are just hypothesis - might be changing the use of each table as I go along\n",
        "   * Look at summaries"
      ],
      "id": "5f7b2282"
    },
    {
      "cell_type": "code",
      "metadata": {
        "id": "CV-SGcrYHQfI",
        "colab": {
          "base_uri": "https://localhost:8080/"
        },
        "outputId": "b0e14742-f4f3-4557-e7e1-033bf9283ed7"
      },
      "source": [
        "from google.colab import drive\n",
        "drive.mount('/content/drive')"
      ],
      "id": "CV-SGcrYHQfI",
      "execution_count": 7,
      "outputs": [
        {
          "output_type": "stream",
          "text": [
            "Drive already mounted at /content/drive; to attempt to forcibly remount, call drive.mount(\"/content/drive\", force_remount=True).\n"
          ],
          "name": "stdout"
        }
      ]
    },
    {
      "cell_type": "code",
      "metadata": {
        "id": "RPhknE0VHpkY"
      },
      "source": [
        "############################################ Helper Function 1 ############################################################\n",
        "############################################### READ FILES ################################################################\n",
        "\n",
        "def read_data(path):\n",
        "  all_dfs = {}\n",
        "  df = pd.DataFrame()\n",
        "  files = os.listdir(path) \n",
        "  missing_value_formats = [\"n.a.\",\"?\",\"NA\",\"n/a\", \"na\", \"--\",\"-\"]\n",
        "  \n",
        "  for file in files:\n",
        "    if file.endswith('.csv'):\n",
        "      all_dfs[file[:file.find(\".\")]] = pd.read_csv(os.path.join(path,file), na_values = missing_value_formats)\n",
        "  return all_dfs\n",
        "\n",
        "############################################ Helper Function 2 ############################################################\n",
        "############################################ SUMMARIZE FILES ##############################################################\n",
        "\n",
        "def summarize_data(df):\n",
        "  print(\"\\nOverview\")\n",
        "  display(df.head())\n",
        "  print(\"\\nSummary\")\n",
        "  display(df.describe(include='all'))"
      ],
      "id": "RPhknE0VHpkY",
      "execution_count": 11,
      "outputs": []
    },
    {
      "cell_type": "code",
      "metadata": {
        "id": "d80ea80b",
        "outputId": "8e5f0141-c348-43cf-bc71-48f536f21d13",
        "colab": {
          "base_uri": "https://localhost:8080/",
          "height": 1000
        }
      },
      "source": [
        "# Understand the available data\n",
        "\n",
        "path = '/content/drive/MyDrive/instacart-market-basket-analysis/'\n",
        "all_dfs = read_data(path)\n",
        "\n",
        "print(\"\\n############################## AISLES ##############################\")\n",
        "summarize_data(all_dfs['aisles'])\n",
        "print(\"\\n############################## DEPARTMENTS ##############################\")\n",
        "summarize_data(all_dfs['departments'])\n",
        "print(\"\\n############################## ORDER-PRODUCTS PRIOR ##############################\")\n",
        "summarize_data(all_dfs['order_products__prior'])\n",
        "print(\"\\n############################## ORDER-PRODUCTS TRAIN ##############################\")\n",
        "summarize_data(all_dfs['order_products__train'])\n",
        "print(\"\\n############################## ORDERS ##############################\")\n",
        "summarize_data(all_dfs['orders'])\n",
        "print(\"\\n############################## PRODUCTS ##############################\")\n",
        "summarize_data(all_dfs['products'])\n",
        "print(\"\\n############################## SAMPLE SUBMISSION ##############################\")\n",
        "summarize_data(all_dfs['sample_submission'])\n"
      ],
      "id": "d80ea80b",
      "execution_count": 15,
      "outputs": [
        {
          "output_type": "stream",
          "text": [
            "\n",
            "############################## AISLES ##############################\n",
            "Overview\n"
          ],
          "name": "stdout"
        },
        {
          "output_type": "display_data",
          "data": {
            "text/html": [
              "<div>\n",
              "<style scoped>\n",
              "    .dataframe tbody tr th:only-of-type {\n",
              "        vertical-align: middle;\n",
              "    }\n",
              "\n",
              "    .dataframe tbody tr th {\n",
              "        vertical-align: top;\n",
              "    }\n",
              "\n",
              "    .dataframe thead th {\n",
              "        text-align: right;\n",
              "    }\n",
              "</style>\n",
              "<table border=\"1\" class=\"dataframe\">\n",
              "  <thead>\n",
              "    <tr style=\"text-align: right;\">\n",
              "      <th></th>\n",
              "      <th>aisle_id</th>\n",
              "      <th>aisle</th>\n",
              "    </tr>\n",
              "  </thead>\n",
              "  <tbody>\n",
              "    <tr>\n",
              "      <th>0</th>\n",
              "      <td>1</td>\n",
              "      <td>prepared soups salads</td>\n",
              "    </tr>\n",
              "    <tr>\n",
              "      <th>1</th>\n",
              "      <td>2</td>\n",
              "      <td>specialty cheeses</td>\n",
              "    </tr>\n",
              "    <tr>\n",
              "      <th>2</th>\n",
              "      <td>3</td>\n",
              "      <td>energy granola bars</td>\n",
              "    </tr>\n",
              "    <tr>\n",
              "      <th>3</th>\n",
              "      <td>4</td>\n",
              "      <td>instant foods</td>\n",
              "    </tr>\n",
              "    <tr>\n",
              "      <th>4</th>\n",
              "      <td>5</td>\n",
              "      <td>marinades meat preparation</td>\n",
              "    </tr>\n",
              "  </tbody>\n",
              "</table>\n",
              "</div>"
            ],
            "text/plain": [
              "   aisle_id                       aisle\n",
              "0         1       prepared soups salads\n",
              "1         2           specialty cheeses\n",
              "2         3         energy granola bars\n",
              "3         4               instant foods\n",
              "4         5  marinades meat preparation"
            ]
          },
          "metadata": {
            "tags": []
          }
        },
        {
          "output_type": "stream",
          "text": [
            "Summary\n"
          ],
          "name": "stdout"
        },
        {
          "output_type": "display_data",
          "data": {
            "text/html": [
              "<div>\n",
              "<style scoped>\n",
              "    .dataframe tbody tr th:only-of-type {\n",
              "        vertical-align: middle;\n",
              "    }\n",
              "\n",
              "    .dataframe tbody tr th {\n",
              "        vertical-align: top;\n",
              "    }\n",
              "\n",
              "    .dataframe thead th {\n",
              "        text-align: right;\n",
              "    }\n",
              "</style>\n",
              "<table border=\"1\" class=\"dataframe\">\n",
              "  <thead>\n",
              "    <tr style=\"text-align: right;\">\n",
              "      <th></th>\n",
              "      <th>aisle_id</th>\n",
              "      <th>aisle</th>\n",
              "    </tr>\n",
              "  </thead>\n",
              "  <tbody>\n",
              "    <tr>\n",
              "      <th>count</th>\n",
              "      <td>134.000000</td>\n",
              "      <td>134</td>\n",
              "    </tr>\n",
              "    <tr>\n",
              "      <th>unique</th>\n",
              "      <td>NaN</td>\n",
              "      <td>134</td>\n",
              "    </tr>\n",
              "    <tr>\n",
              "      <th>top</th>\n",
              "      <td>NaN</td>\n",
              "      <td>diapers wipes</td>\n",
              "    </tr>\n",
              "    <tr>\n",
              "      <th>freq</th>\n",
              "      <td>NaN</td>\n",
              "      <td>1</td>\n",
              "    </tr>\n",
              "    <tr>\n",
              "      <th>mean</th>\n",
              "      <td>67.500000</td>\n",
              "      <td>NaN</td>\n",
              "    </tr>\n",
              "    <tr>\n",
              "      <th>std</th>\n",
              "      <td>38.826537</td>\n",
              "      <td>NaN</td>\n",
              "    </tr>\n",
              "    <tr>\n",
              "      <th>min</th>\n",
              "      <td>1.000000</td>\n",
              "      <td>NaN</td>\n",
              "    </tr>\n",
              "    <tr>\n",
              "      <th>25%</th>\n",
              "      <td>34.250000</td>\n",
              "      <td>NaN</td>\n",
              "    </tr>\n",
              "    <tr>\n",
              "      <th>50%</th>\n",
              "      <td>67.500000</td>\n",
              "      <td>NaN</td>\n",
              "    </tr>\n",
              "    <tr>\n",
              "      <th>75%</th>\n",
              "      <td>100.750000</td>\n",
              "      <td>NaN</td>\n",
              "    </tr>\n",
              "    <tr>\n",
              "      <th>max</th>\n",
              "      <td>134.000000</td>\n",
              "      <td>NaN</td>\n",
              "    </tr>\n",
              "  </tbody>\n",
              "</table>\n",
              "</div>"
            ],
            "text/plain": [
              "          aisle_id          aisle\n",
              "count   134.000000            134\n",
              "unique         NaN            134\n",
              "top            NaN  diapers wipes\n",
              "freq           NaN              1\n",
              "mean     67.500000            NaN\n",
              "std      38.826537            NaN\n",
              "min       1.000000            NaN\n",
              "25%      34.250000            NaN\n",
              "50%      67.500000            NaN\n",
              "75%     100.750000            NaN\n",
              "max     134.000000            NaN"
            ]
          },
          "metadata": {
            "tags": []
          }
        },
        {
          "output_type": "stream",
          "text": [
            "\n",
            "############################## DEPARTMENTS ##############################\n",
            "Overview\n"
          ],
          "name": "stdout"
        },
        {
          "output_type": "display_data",
          "data": {
            "text/html": [
              "<div>\n",
              "<style scoped>\n",
              "    .dataframe tbody tr th:only-of-type {\n",
              "        vertical-align: middle;\n",
              "    }\n",
              "\n",
              "    .dataframe tbody tr th {\n",
              "        vertical-align: top;\n",
              "    }\n",
              "\n",
              "    .dataframe thead th {\n",
              "        text-align: right;\n",
              "    }\n",
              "</style>\n",
              "<table border=\"1\" class=\"dataframe\">\n",
              "  <thead>\n",
              "    <tr style=\"text-align: right;\">\n",
              "      <th></th>\n",
              "      <th>department_id</th>\n",
              "      <th>department</th>\n",
              "    </tr>\n",
              "  </thead>\n",
              "  <tbody>\n",
              "    <tr>\n",
              "      <th>0</th>\n",
              "      <td>1</td>\n",
              "      <td>frozen</td>\n",
              "    </tr>\n",
              "    <tr>\n",
              "      <th>1</th>\n",
              "      <td>2</td>\n",
              "      <td>other</td>\n",
              "    </tr>\n",
              "    <tr>\n",
              "      <th>2</th>\n",
              "      <td>3</td>\n",
              "      <td>bakery</td>\n",
              "    </tr>\n",
              "    <tr>\n",
              "      <th>3</th>\n",
              "      <td>4</td>\n",
              "      <td>produce</td>\n",
              "    </tr>\n",
              "    <tr>\n",
              "      <th>4</th>\n",
              "      <td>5</td>\n",
              "      <td>alcohol</td>\n",
              "    </tr>\n",
              "  </tbody>\n",
              "</table>\n",
              "</div>"
            ],
            "text/plain": [
              "   department_id department\n",
              "0              1     frozen\n",
              "1              2      other\n",
              "2              3     bakery\n",
              "3              4    produce\n",
              "4              5    alcohol"
            ]
          },
          "metadata": {
            "tags": []
          }
        },
        {
          "output_type": "stream",
          "text": [
            "Summary\n"
          ],
          "name": "stdout"
        },
        {
          "output_type": "display_data",
          "data": {
            "text/html": [
              "<div>\n",
              "<style scoped>\n",
              "    .dataframe tbody tr th:only-of-type {\n",
              "        vertical-align: middle;\n",
              "    }\n",
              "\n",
              "    .dataframe tbody tr th {\n",
              "        vertical-align: top;\n",
              "    }\n",
              "\n",
              "    .dataframe thead th {\n",
              "        text-align: right;\n",
              "    }\n",
              "</style>\n",
              "<table border=\"1\" class=\"dataframe\">\n",
              "  <thead>\n",
              "    <tr style=\"text-align: right;\">\n",
              "      <th></th>\n",
              "      <th>department_id</th>\n",
              "      <th>department</th>\n",
              "    </tr>\n",
              "  </thead>\n",
              "  <tbody>\n",
              "    <tr>\n",
              "      <th>count</th>\n",
              "      <td>21.000000</td>\n",
              "      <td>21</td>\n",
              "    </tr>\n",
              "    <tr>\n",
              "      <th>unique</th>\n",
              "      <td>NaN</td>\n",
              "      <td>21</td>\n",
              "    </tr>\n",
              "    <tr>\n",
              "      <th>top</th>\n",
              "      <td>NaN</td>\n",
              "      <td>dry goods pasta</td>\n",
              "    </tr>\n",
              "    <tr>\n",
              "      <th>freq</th>\n",
              "      <td>NaN</td>\n",
              "      <td>1</td>\n",
              "    </tr>\n",
              "    <tr>\n",
              "      <th>mean</th>\n",
              "      <td>11.000000</td>\n",
              "      <td>NaN</td>\n",
              "    </tr>\n",
              "    <tr>\n",
              "      <th>std</th>\n",
              "      <td>6.204837</td>\n",
              "      <td>NaN</td>\n",
              "    </tr>\n",
              "    <tr>\n",
              "      <th>min</th>\n",
              "      <td>1.000000</td>\n",
              "      <td>NaN</td>\n",
              "    </tr>\n",
              "    <tr>\n",
              "      <th>25%</th>\n",
              "      <td>6.000000</td>\n",
              "      <td>NaN</td>\n",
              "    </tr>\n",
              "    <tr>\n",
              "      <th>50%</th>\n",
              "      <td>11.000000</td>\n",
              "      <td>NaN</td>\n",
              "    </tr>\n",
              "    <tr>\n",
              "      <th>75%</th>\n",
              "      <td>16.000000</td>\n",
              "      <td>NaN</td>\n",
              "    </tr>\n",
              "    <tr>\n",
              "      <th>max</th>\n",
              "      <td>21.000000</td>\n",
              "      <td>NaN</td>\n",
              "    </tr>\n",
              "  </tbody>\n",
              "</table>\n",
              "</div>"
            ],
            "text/plain": [
              "        department_id       department\n",
              "count       21.000000               21\n",
              "unique            NaN               21\n",
              "top               NaN  dry goods pasta\n",
              "freq              NaN                1\n",
              "mean        11.000000              NaN\n",
              "std          6.204837              NaN\n",
              "min          1.000000              NaN\n",
              "25%          6.000000              NaN\n",
              "50%         11.000000              NaN\n",
              "75%         16.000000              NaN\n",
              "max         21.000000              NaN"
            ]
          },
          "metadata": {
            "tags": []
          }
        },
        {
          "output_type": "stream",
          "text": [
            "\n",
            "############################## ORDER-PRODUCTS PRIOR ##############################\n",
            "Overview\n"
          ],
          "name": "stdout"
        },
        {
          "output_type": "display_data",
          "data": {
            "text/html": [
              "<div>\n",
              "<style scoped>\n",
              "    .dataframe tbody tr th:only-of-type {\n",
              "        vertical-align: middle;\n",
              "    }\n",
              "\n",
              "    .dataframe tbody tr th {\n",
              "        vertical-align: top;\n",
              "    }\n",
              "\n",
              "    .dataframe thead th {\n",
              "        text-align: right;\n",
              "    }\n",
              "</style>\n",
              "<table border=\"1\" class=\"dataframe\">\n",
              "  <thead>\n",
              "    <tr style=\"text-align: right;\">\n",
              "      <th></th>\n",
              "      <th>order_id</th>\n",
              "      <th>product_id</th>\n",
              "      <th>add_to_cart_order</th>\n",
              "      <th>reordered</th>\n",
              "    </tr>\n",
              "  </thead>\n",
              "  <tbody>\n",
              "    <tr>\n",
              "      <th>0</th>\n",
              "      <td>2</td>\n",
              "      <td>33120</td>\n",
              "      <td>1</td>\n",
              "      <td>1</td>\n",
              "    </tr>\n",
              "    <tr>\n",
              "      <th>1</th>\n",
              "      <td>2</td>\n",
              "      <td>28985</td>\n",
              "      <td>2</td>\n",
              "      <td>1</td>\n",
              "    </tr>\n",
              "    <tr>\n",
              "      <th>2</th>\n",
              "      <td>2</td>\n",
              "      <td>9327</td>\n",
              "      <td>3</td>\n",
              "      <td>0</td>\n",
              "    </tr>\n",
              "    <tr>\n",
              "      <th>3</th>\n",
              "      <td>2</td>\n",
              "      <td>45918</td>\n",
              "      <td>4</td>\n",
              "      <td>1</td>\n",
              "    </tr>\n",
              "    <tr>\n",
              "      <th>4</th>\n",
              "      <td>2</td>\n",
              "      <td>30035</td>\n",
              "      <td>5</td>\n",
              "      <td>0</td>\n",
              "    </tr>\n",
              "  </tbody>\n",
              "</table>\n",
              "</div>"
            ],
            "text/plain": [
              "   order_id  product_id  add_to_cart_order  reordered\n",
              "0         2       33120                  1          1\n",
              "1         2       28985                  2          1\n",
              "2         2        9327                  3          0\n",
              "3         2       45918                  4          1\n",
              "4         2       30035                  5          0"
            ]
          },
          "metadata": {
            "tags": []
          }
        },
        {
          "output_type": "stream",
          "text": [
            "Summary\n"
          ],
          "name": "stdout"
        },
        {
          "output_type": "display_data",
          "data": {
            "text/html": [
              "<div>\n",
              "<style scoped>\n",
              "    .dataframe tbody tr th:only-of-type {\n",
              "        vertical-align: middle;\n",
              "    }\n",
              "\n",
              "    .dataframe tbody tr th {\n",
              "        vertical-align: top;\n",
              "    }\n",
              "\n",
              "    .dataframe thead th {\n",
              "        text-align: right;\n",
              "    }\n",
              "</style>\n",
              "<table border=\"1\" class=\"dataframe\">\n",
              "  <thead>\n",
              "    <tr style=\"text-align: right;\">\n",
              "      <th></th>\n",
              "      <th>order_id</th>\n",
              "      <th>product_id</th>\n",
              "      <th>add_to_cart_order</th>\n",
              "      <th>reordered</th>\n",
              "    </tr>\n",
              "  </thead>\n",
              "  <tbody>\n",
              "    <tr>\n",
              "      <th>count</th>\n",
              "      <td>3.243449e+07</td>\n",
              "      <td>3.243449e+07</td>\n",
              "      <td>3.243449e+07</td>\n",
              "      <td>3.243449e+07</td>\n",
              "    </tr>\n",
              "    <tr>\n",
              "      <th>mean</th>\n",
              "      <td>1.710749e+06</td>\n",
              "      <td>2.557634e+04</td>\n",
              "      <td>8.351076e+00</td>\n",
              "      <td>5.896975e-01</td>\n",
              "    </tr>\n",
              "    <tr>\n",
              "      <th>std</th>\n",
              "      <td>9.873007e+05</td>\n",
              "      <td>1.409669e+04</td>\n",
              "      <td>7.126671e+00</td>\n",
              "      <td>4.918886e-01</td>\n",
              "    </tr>\n",
              "    <tr>\n",
              "      <th>min</th>\n",
              "      <td>2.000000e+00</td>\n",
              "      <td>1.000000e+00</td>\n",
              "      <td>1.000000e+00</td>\n",
              "      <td>0.000000e+00</td>\n",
              "    </tr>\n",
              "    <tr>\n",
              "      <th>25%</th>\n",
              "      <td>8.559430e+05</td>\n",
              "      <td>1.353000e+04</td>\n",
              "      <td>3.000000e+00</td>\n",
              "      <td>0.000000e+00</td>\n",
              "    </tr>\n",
              "    <tr>\n",
              "      <th>50%</th>\n",
              "      <td>1.711048e+06</td>\n",
              "      <td>2.525600e+04</td>\n",
              "      <td>6.000000e+00</td>\n",
              "      <td>1.000000e+00</td>\n",
              "    </tr>\n",
              "    <tr>\n",
              "      <th>75%</th>\n",
              "      <td>2.565514e+06</td>\n",
              "      <td>3.793500e+04</td>\n",
              "      <td>1.100000e+01</td>\n",
              "      <td>1.000000e+00</td>\n",
              "    </tr>\n",
              "    <tr>\n",
              "      <th>max</th>\n",
              "      <td>3.421083e+06</td>\n",
              "      <td>4.968800e+04</td>\n",
              "      <td>1.450000e+02</td>\n",
              "      <td>1.000000e+00</td>\n",
              "    </tr>\n",
              "  </tbody>\n",
              "</table>\n",
              "</div>"
            ],
            "text/plain": [
              "           order_id    product_id  add_to_cart_order     reordered\n",
              "count  3.243449e+07  3.243449e+07       3.243449e+07  3.243449e+07\n",
              "mean   1.710749e+06  2.557634e+04       8.351076e+00  5.896975e-01\n",
              "std    9.873007e+05  1.409669e+04       7.126671e+00  4.918886e-01\n",
              "min    2.000000e+00  1.000000e+00       1.000000e+00  0.000000e+00\n",
              "25%    8.559430e+05  1.353000e+04       3.000000e+00  0.000000e+00\n",
              "50%    1.711048e+06  2.525600e+04       6.000000e+00  1.000000e+00\n",
              "75%    2.565514e+06  3.793500e+04       1.100000e+01  1.000000e+00\n",
              "max    3.421083e+06  4.968800e+04       1.450000e+02  1.000000e+00"
            ]
          },
          "metadata": {
            "tags": []
          }
        },
        {
          "output_type": "stream",
          "text": [
            "\n",
            "############################## ORDER-PRODUCTS TRAIN ##############################\n",
            "Overview\n"
          ],
          "name": "stdout"
        },
        {
          "output_type": "display_data",
          "data": {
            "text/html": [
              "<div>\n",
              "<style scoped>\n",
              "    .dataframe tbody tr th:only-of-type {\n",
              "        vertical-align: middle;\n",
              "    }\n",
              "\n",
              "    .dataframe tbody tr th {\n",
              "        vertical-align: top;\n",
              "    }\n",
              "\n",
              "    .dataframe thead th {\n",
              "        text-align: right;\n",
              "    }\n",
              "</style>\n",
              "<table border=\"1\" class=\"dataframe\">\n",
              "  <thead>\n",
              "    <tr style=\"text-align: right;\">\n",
              "      <th></th>\n",
              "      <th>order_id</th>\n",
              "      <th>product_id</th>\n",
              "      <th>add_to_cart_order</th>\n",
              "      <th>reordered</th>\n",
              "    </tr>\n",
              "  </thead>\n",
              "  <tbody>\n",
              "    <tr>\n",
              "      <th>0</th>\n",
              "      <td>1</td>\n",
              "      <td>49302</td>\n",
              "      <td>1</td>\n",
              "      <td>1</td>\n",
              "    </tr>\n",
              "    <tr>\n",
              "      <th>1</th>\n",
              "      <td>1</td>\n",
              "      <td>11109</td>\n",
              "      <td>2</td>\n",
              "      <td>1</td>\n",
              "    </tr>\n",
              "    <tr>\n",
              "      <th>2</th>\n",
              "      <td>1</td>\n",
              "      <td>10246</td>\n",
              "      <td>3</td>\n",
              "      <td>0</td>\n",
              "    </tr>\n",
              "    <tr>\n",
              "      <th>3</th>\n",
              "      <td>1</td>\n",
              "      <td>49683</td>\n",
              "      <td>4</td>\n",
              "      <td>0</td>\n",
              "    </tr>\n",
              "    <tr>\n",
              "      <th>4</th>\n",
              "      <td>1</td>\n",
              "      <td>43633</td>\n",
              "      <td>5</td>\n",
              "      <td>1</td>\n",
              "    </tr>\n",
              "  </tbody>\n",
              "</table>\n",
              "</div>"
            ],
            "text/plain": [
              "   order_id  product_id  add_to_cart_order  reordered\n",
              "0         1       49302                  1          1\n",
              "1         1       11109                  2          1\n",
              "2         1       10246                  3          0\n",
              "3         1       49683                  4          0\n",
              "4         1       43633                  5          1"
            ]
          },
          "metadata": {
            "tags": []
          }
        },
        {
          "output_type": "stream",
          "text": [
            "Summary\n"
          ],
          "name": "stdout"
        },
        {
          "output_type": "display_data",
          "data": {
            "text/html": [
              "<div>\n",
              "<style scoped>\n",
              "    .dataframe tbody tr th:only-of-type {\n",
              "        vertical-align: middle;\n",
              "    }\n",
              "\n",
              "    .dataframe tbody tr th {\n",
              "        vertical-align: top;\n",
              "    }\n",
              "\n",
              "    .dataframe thead th {\n",
              "        text-align: right;\n",
              "    }\n",
              "</style>\n",
              "<table border=\"1\" class=\"dataframe\">\n",
              "  <thead>\n",
              "    <tr style=\"text-align: right;\">\n",
              "      <th></th>\n",
              "      <th>order_id</th>\n",
              "      <th>product_id</th>\n",
              "      <th>add_to_cart_order</th>\n",
              "      <th>reordered</th>\n",
              "    </tr>\n",
              "  </thead>\n",
              "  <tbody>\n",
              "    <tr>\n",
              "      <th>count</th>\n",
              "      <td>1.384617e+06</td>\n",
              "      <td>1.384617e+06</td>\n",
              "      <td>1.384617e+06</td>\n",
              "      <td>1.384617e+06</td>\n",
              "    </tr>\n",
              "    <tr>\n",
              "      <th>mean</th>\n",
              "      <td>1.706298e+06</td>\n",
              "      <td>2.555624e+04</td>\n",
              "      <td>8.758044e+00</td>\n",
              "      <td>5.985944e-01</td>\n",
              "    </tr>\n",
              "    <tr>\n",
              "      <th>std</th>\n",
              "      <td>9.897326e+05</td>\n",
              "      <td>1.412127e+04</td>\n",
              "      <td>7.423936e+00</td>\n",
              "      <td>4.901829e-01</td>\n",
              "    </tr>\n",
              "    <tr>\n",
              "      <th>min</th>\n",
              "      <td>1.000000e+00</td>\n",
              "      <td>1.000000e+00</td>\n",
              "      <td>1.000000e+00</td>\n",
              "      <td>0.000000e+00</td>\n",
              "    </tr>\n",
              "    <tr>\n",
              "      <th>25%</th>\n",
              "      <td>8.433700e+05</td>\n",
              "      <td>1.338000e+04</td>\n",
              "      <td>3.000000e+00</td>\n",
              "      <td>0.000000e+00</td>\n",
              "    </tr>\n",
              "    <tr>\n",
              "      <th>50%</th>\n",
              "      <td>1.701880e+06</td>\n",
              "      <td>2.529800e+04</td>\n",
              "      <td>7.000000e+00</td>\n",
              "      <td>1.000000e+00</td>\n",
              "    </tr>\n",
              "    <tr>\n",
              "      <th>75%</th>\n",
              "      <td>2.568023e+06</td>\n",
              "      <td>3.794000e+04</td>\n",
              "      <td>1.200000e+01</td>\n",
              "      <td>1.000000e+00</td>\n",
              "    </tr>\n",
              "    <tr>\n",
              "      <th>max</th>\n",
              "      <td>3.421070e+06</td>\n",
              "      <td>4.968800e+04</td>\n",
              "      <td>8.000000e+01</td>\n",
              "      <td>1.000000e+00</td>\n",
              "    </tr>\n",
              "  </tbody>\n",
              "</table>\n",
              "</div>"
            ],
            "text/plain": [
              "           order_id    product_id  add_to_cart_order     reordered\n",
              "count  1.384617e+06  1.384617e+06       1.384617e+06  1.384617e+06\n",
              "mean   1.706298e+06  2.555624e+04       8.758044e+00  5.985944e-01\n",
              "std    9.897326e+05  1.412127e+04       7.423936e+00  4.901829e-01\n",
              "min    1.000000e+00  1.000000e+00       1.000000e+00  0.000000e+00\n",
              "25%    8.433700e+05  1.338000e+04       3.000000e+00  0.000000e+00\n",
              "50%    1.701880e+06  2.529800e+04       7.000000e+00  1.000000e+00\n",
              "75%    2.568023e+06  3.794000e+04       1.200000e+01  1.000000e+00\n",
              "max    3.421070e+06  4.968800e+04       8.000000e+01  1.000000e+00"
            ]
          },
          "metadata": {
            "tags": []
          }
        },
        {
          "output_type": "stream",
          "text": [
            "\n",
            "############################## ORDERS ##############################\n",
            "Overview\n"
          ],
          "name": "stdout"
        },
        {
          "output_type": "display_data",
          "data": {
            "text/html": [
              "<div>\n",
              "<style scoped>\n",
              "    .dataframe tbody tr th:only-of-type {\n",
              "        vertical-align: middle;\n",
              "    }\n",
              "\n",
              "    .dataframe tbody tr th {\n",
              "        vertical-align: top;\n",
              "    }\n",
              "\n",
              "    .dataframe thead th {\n",
              "        text-align: right;\n",
              "    }\n",
              "</style>\n",
              "<table border=\"1\" class=\"dataframe\">\n",
              "  <thead>\n",
              "    <tr style=\"text-align: right;\">\n",
              "      <th></th>\n",
              "      <th>order_id</th>\n",
              "      <th>user_id</th>\n",
              "      <th>eval_set</th>\n",
              "      <th>order_number</th>\n",
              "      <th>order_dow</th>\n",
              "      <th>order_hour_of_day</th>\n",
              "      <th>days_since_prior_order</th>\n",
              "    </tr>\n",
              "  </thead>\n",
              "  <tbody>\n",
              "    <tr>\n",
              "      <th>0</th>\n",
              "      <td>2539329</td>\n",
              "      <td>1</td>\n",
              "      <td>prior</td>\n",
              "      <td>1</td>\n",
              "      <td>2</td>\n",
              "      <td>8</td>\n",
              "      <td>NaN</td>\n",
              "    </tr>\n",
              "    <tr>\n",
              "      <th>1</th>\n",
              "      <td>2398795</td>\n",
              "      <td>1</td>\n",
              "      <td>prior</td>\n",
              "      <td>2</td>\n",
              "      <td>3</td>\n",
              "      <td>7</td>\n",
              "      <td>15.0</td>\n",
              "    </tr>\n",
              "    <tr>\n",
              "      <th>2</th>\n",
              "      <td>473747</td>\n",
              "      <td>1</td>\n",
              "      <td>prior</td>\n",
              "      <td>3</td>\n",
              "      <td>3</td>\n",
              "      <td>12</td>\n",
              "      <td>21.0</td>\n",
              "    </tr>\n",
              "    <tr>\n",
              "      <th>3</th>\n",
              "      <td>2254736</td>\n",
              "      <td>1</td>\n",
              "      <td>prior</td>\n",
              "      <td>4</td>\n",
              "      <td>4</td>\n",
              "      <td>7</td>\n",
              "      <td>29.0</td>\n",
              "    </tr>\n",
              "    <tr>\n",
              "      <th>4</th>\n",
              "      <td>431534</td>\n",
              "      <td>1</td>\n",
              "      <td>prior</td>\n",
              "      <td>5</td>\n",
              "      <td>4</td>\n",
              "      <td>15</td>\n",
              "      <td>28.0</td>\n",
              "    </tr>\n",
              "  </tbody>\n",
              "</table>\n",
              "</div>"
            ],
            "text/plain": [
              "   order_id  user_id  ... order_hour_of_day  days_since_prior_order\n",
              "0   2539329        1  ...                 8                     NaN\n",
              "1   2398795        1  ...                 7                    15.0\n",
              "2    473747        1  ...                12                    21.0\n",
              "3   2254736        1  ...                 7                    29.0\n",
              "4    431534        1  ...                15                    28.0\n",
              "\n",
              "[5 rows x 7 columns]"
            ]
          },
          "metadata": {
            "tags": []
          }
        },
        {
          "output_type": "stream",
          "text": [
            "Summary\n"
          ],
          "name": "stdout"
        },
        {
          "output_type": "display_data",
          "data": {
            "text/html": [
              "<div>\n",
              "<style scoped>\n",
              "    .dataframe tbody tr th:only-of-type {\n",
              "        vertical-align: middle;\n",
              "    }\n",
              "\n",
              "    .dataframe tbody tr th {\n",
              "        vertical-align: top;\n",
              "    }\n",
              "\n",
              "    .dataframe thead th {\n",
              "        text-align: right;\n",
              "    }\n",
              "</style>\n",
              "<table border=\"1\" class=\"dataframe\">\n",
              "  <thead>\n",
              "    <tr style=\"text-align: right;\">\n",
              "      <th></th>\n",
              "      <th>order_id</th>\n",
              "      <th>user_id</th>\n",
              "      <th>eval_set</th>\n",
              "      <th>order_number</th>\n",
              "      <th>order_dow</th>\n",
              "      <th>order_hour_of_day</th>\n",
              "      <th>days_since_prior_order</th>\n",
              "    </tr>\n",
              "  </thead>\n",
              "  <tbody>\n",
              "    <tr>\n",
              "      <th>count</th>\n",
              "      <td>3.421083e+06</td>\n",
              "      <td>3.421083e+06</td>\n",
              "      <td>3421083</td>\n",
              "      <td>3.421083e+06</td>\n",
              "      <td>3.421083e+06</td>\n",
              "      <td>3.421083e+06</td>\n",
              "      <td>3.214874e+06</td>\n",
              "    </tr>\n",
              "    <tr>\n",
              "      <th>unique</th>\n",
              "      <td>NaN</td>\n",
              "      <td>NaN</td>\n",
              "      <td>3</td>\n",
              "      <td>NaN</td>\n",
              "      <td>NaN</td>\n",
              "      <td>NaN</td>\n",
              "      <td>NaN</td>\n",
              "    </tr>\n",
              "    <tr>\n",
              "      <th>top</th>\n",
              "      <td>NaN</td>\n",
              "      <td>NaN</td>\n",
              "      <td>prior</td>\n",
              "      <td>NaN</td>\n",
              "      <td>NaN</td>\n",
              "      <td>NaN</td>\n",
              "      <td>NaN</td>\n",
              "    </tr>\n",
              "    <tr>\n",
              "      <th>freq</th>\n",
              "      <td>NaN</td>\n",
              "      <td>NaN</td>\n",
              "      <td>3214874</td>\n",
              "      <td>NaN</td>\n",
              "      <td>NaN</td>\n",
              "      <td>NaN</td>\n",
              "      <td>NaN</td>\n",
              "    </tr>\n",
              "    <tr>\n",
              "      <th>mean</th>\n",
              "      <td>1.710542e+06</td>\n",
              "      <td>1.029782e+05</td>\n",
              "      <td>NaN</td>\n",
              "      <td>1.715486e+01</td>\n",
              "      <td>2.776219e+00</td>\n",
              "      <td>1.345202e+01</td>\n",
              "      <td>1.111484e+01</td>\n",
              "    </tr>\n",
              "    <tr>\n",
              "      <th>std</th>\n",
              "      <td>9.875817e+05</td>\n",
              "      <td>5.953372e+04</td>\n",
              "      <td>NaN</td>\n",
              "      <td>1.773316e+01</td>\n",
              "      <td>2.046829e+00</td>\n",
              "      <td>4.226088e+00</td>\n",
              "      <td>9.206737e+00</td>\n",
              "    </tr>\n",
              "    <tr>\n",
              "      <th>min</th>\n",
              "      <td>1.000000e+00</td>\n",
              "      <td>1.000000e+00</td>\n",
              "      <td>NaN</td>\n",
              "      <td>1.000000e+00</td>\n",
              "      <td>0.000000e+00</td>\n",
              "      <td>0.000000e+00</td>\n",
              "      <td>0.000000e+00</td>\n",
              "    </tr>\n",
              "    <tr>\n",
              "      <th>25%</th>\n",
              "      <td>8.552715e+05</td>\n",
              "      <td>5.139400e+04</td>\n",
              "      <td>NaN</td>\n",
              "      <td>5.000000e+00</td>\n",
              "      <td>1.000000e+00</td>\n",
              "      <td>1.000000e+01</td>\n",
              "      <td>4.000000e+00</td>\n",
              "    </tr>\n",
              "    <tr>\n",
              "      <th>50%</th>\n",
              "      <td>1.710542e+06</td>\n",
              "      <td>1.026890e+05</td>\n",
              "      <td>NaN</td>\n",
              "      <td>1.100000e+01</td>\n",
              "      <td>3.000000e+00</td>\n",
              "      <td>1.300000e+01</td>\n",
              "      <td>7.000000e+00</td>\n",
              "    </tr>\n",
              "    <tr>\n",
              "      <th>75%</th>\n",
              "      <td>2.565812e+06</td>\n",
              "      <td>1.543850e+05</td>\n",
              "      <td>NaN</td>\n",
              "      <td>2.300000e+01</td>\n",
              "      <td>5.000000e+00</td>\n",
              "      <td>1.600000e+01</td>\n",
              "      <td>1.500000e+01</td>\n",
              "    </tr>\n",
              "    <tr>\n",
              "      <th>max</th>\n",
              "      <td>3.421083e+06</td>\n",
              "      <td>2.062090e+05</td>\n",
              "      <td>NaN</td>\n",
              "      <td>1.000000e+02</td>\n",
              "      <td>6.000000e+00</td>\n",
              "      <td>2.300000e+01</td>\n",
              "      <td>3.000000e+01</td>\n",
              "    </tr>\n",
              "  </tbody>\n",
              "</table>\n",
              "</div>"
            ],
            "text/plain": [
              "            order_id       user_id  ... order_hour_of_day  days_since_prior_order\n",
              "count   3.421083e+06  3.421083e+06  ...      3.421083e+06            3.214874e+06\n",
              "unique           NaN           NaN  ...               NaN                     NaN\n",
              "top              NaN           NaN  ...               NaN                     NaN\n",
              "freq             NaN           NaN  ...               NaN                     NaN\n",
              "mean    1.710542e+06  1.029782e+05  ...      1.345202e+01            1.111484e+01\n",
              "std     9.875817e+05  5.953372e+04  ...      4.226088e+00            9.206737e+00\n",
              "min     1.000000e+00  1.000000e+00  ...      0.000000e+00            0.000000e+00\n",
              "25%     8.552715e+05  5.139400e+04  ...      1.000000e+01            4.000000e+00\n",
              "50%     1.710542e+06  1.026890e+05  ...      1.300000e+01            7.000000e+00\n",
              "75%     2.565812e+06  1.543850e+05  ...      1.600000e+01            1.500000e+01\n",
              "max     3.421083e+06  2.062090e+05  ...      2.300000e+01            3.000000e+01\n",
              "\n",
              "[11 rows x 7 columns]"
            ]
          },
          "metadata": {
            "tags": []
          }
        },
        {
          "output_type": "stream",
          "text": [
            "\n",
            "############################## PRODUCTS ##############################\n",
            "Overview\n"
          ],
          "name": "stdout"
        },
        {
          "output_type": "display_data",
          "data": {
            "text/html": [
              "<div>\n",
              "<style scoped>\n",
              "    .dataframe tbody tr th:only-of-type {\n",
              "        vertical-align: middle;\n",
              "    }\n",
              "\n",
              "    .dataframe tbody tr th {\n",
              "        vertical-align: top;\n",
              "    }\n",
              "\n",
              "    .dataframe thead th {\n",
              "        text-align: right;\n",
              "    }\n",
              "</style>\n",
              "<table border=\"1\" class=\"dataframe\">\n",
              "  <thead>\n",
              "    <tr style=\"text-align: right;\">\n",
              "      <th></th>\n",
              "      <th>product_id</th>\n",
              "      <th>product_name</th>\n",
              "      <th>aisle_id</th>\n",
              "      <th>department_id</th>\n",
              "    </tr>\n",
              "  </thead>\n",
              "  <tbody>\n",
              "    <tr>\n",
              "      <th>0</th>\n",
              "      <td>1</td>\n",
              "      <td>Chocolate Sandwich Cookies</td>\n",
              "      <td>61</td>\n",
              "      <td>19</td>\n",
              "    </tr>\n",
              "    <tr>\n",
              "      <th>1</th>\n",
              "      <td>2</td>\n",
              "      <td>All-Seasons Salt</td>\n",
              "      <td>104</td>\n",
              "      <td>13</td>\n",
              "    </tr>\n",
              "    <tr>\n",
              "      <th>2</th>\n",
              "      <td>3</td>\n",
              "      <td>Robust Golden Unsweetened Oolong Tea</td>\n",
              "      <td>94</td>\n",
              "      <td>7</td>\n",
              "    </tr>\n",
              "    <tr>\n",
              "      <th>3</th>\n",
              "      <td>4</td>\n",
              "      <td>Smart Ones Classic Favorites Mini Rigatoni Wit...</td>\n",
              "      <td>38</td>\n",
              "      <td>1</td>\n",
              "    </tr>\n",
              "    <tr>\n",
              "      <th>4</th>\n",
              "      <td>5</td>\n",
              "      <td>Green Chile Anytime Sauce</td>\n",
              "      <td>5</td>\n",
              "      <td>13</td>\n",
              "    </tr>\n",
              "  </tbody>\n",
              "</table>\n",
              "</div>"
            ],
            "text/plain": [
              "   product_id  ... department_id\n",
              "0           1  ...            19\n",
              "1           2  ...            13\n",
              "2           3  ...             7\n",
              "3           4  ...             1\n",
              "4           5  ...            13\n",
              "\n",
              "[5 rows x 4 columns]"
            ]
          },
          "metadata": {
            "tags": []
          }
        },
        {
          "output_type": "stream",
          "text": [
            "Summary\n"
          ],
          "name": "stdout"
        },
        {
          "output_type": "display_data",
          "data": {
            "text/html": [
              "<div>\n",
              "<style scoped>\n",
              "    .dataframe tbody tr th:only-of-type {\n",
              "        vertical-align: middle;\n",
              "    }\n",
              "\n",
              "    .dataframe tbody tr th {\n",
              "        vertical-align: top;\n",
              "    }\n",
              "\n",
              "    .dataframe thead th {\n",
              "        text-align: right;\n",
              "    }\n",
              "</style>\n",
              "<table border=\"1\" class=\"dataframe\">\n",
              "  <thead>\n",
              "    <tr style=\"text-align: right;\">\n",
              "      <th></th>\n",
              "      <th>product_id</th>\n",
              "      <th>product_name</th>\n",
              "      <th>aisle_id</th>\n",
              "      <th>department_id</th>\n",
              "    </tr>\n",
              "  </thead>\n",
              "  <tbody>\n",
              "    <tr>\n",
              "      <th>count</th>\n",
              "      <td>49688.000000</td>\n",
              "      <td>49688</td>\n",
              "      <td>49688.000000</td>\n",
              "      <td>49688.000000</td>\n",
              "    </tr>\n",
              "    <tr>\n",
              "      <th>unique</th>\n",
              "      <td>NaN</td>\n",
              "      <td>49688</td>\n",
              "      <td>NaN</td>\n",
              "      <td>NaN</td>\n",
              "    </tr>\n",
              "    <tr>\n",
              "      <th>top</th>\n",
              "      <td>NaN</td>\n",
              "      <td>Coffee, Ground, Medium, Kona Blend</td>\n",
              "      <td>NaN</td>\n",
              "      <td>NaN</td>\n",
              "    </tr>\n",
              "    <tr>\n",
              "      <th>freq</th>\n",
              "      <td>NaN</td>\n",
              "      <td>1</td>\n",
              "      <td>NaN</td>\n",
              "      <td>NaN</td>\n",
              "    </tr>\n",
              "    <tr>\n",
              "      <th>mean</th>\n",
              "      <td>24844.500000</td>\n",
              "      <td>NaN</td>\n",
              "      <td>67.769582</td>\n",
              "      <td>11.728687</td>\n",
              "    </tr>\n",
              "    <tr>\n",
              "      <th>std</th>\n",
              "      <td>14343.834425</td>\n",
              "      <td>NaN</td>\n",
              "      <td>38.316162</td>\n",
              "      <td>5.850410</td>\n",
              "    </tr>\n",
              "    <tr>\n",
              "      <th>min</th>\n",
              "      <td>1.000000</td>\n",
              "      <td>NaN</td>\n",
              "      <td>1.000000</td>\n",
              "      <td>1.000000</td>\n",
              "    </tr>\n",
              "    <tr>\n",
              "      <th>25%</th>\n",
              "      <td>12422.750000</td>\n",
              "      <td>NaN</td>\n",
              "      <td>35.000000</td>\n",
              "      <td>7.000000</td>\n",
              "    </tr>\n",
              "    <tr>\n",
              "      <th>50%</th>\n",
              "      <td>24844.500000</td>\n",
              "      <td>NaN</td>\n",
              "      <td>69.000000</td>\n",
              "      <td>13.000000</td>\n",
              "    </tr>\n",
              "    <tr>\n",
              "      <th>75%</th>\n",
              "      <td>37266.250000</td>\n",
              "      <td>NaN</td>\n",
              "      <td>100.000000</td>\n",
              "      <td>17.000000</td>\n",
              "    </tr>\n",
              "    <tr>\n",
              "      <th>max</th>\n",
              "      <td>49688.000000</td>\n",
              "      <td>NaN</td>\n",
              "      <td>134.000000</td>\n",
              "      <td>21.000000</td>\n",
              "    </tr>\n",
              "  </tbody>\n",
              "</table>\n",
              "</div>"
            ],
            "text/plain": [
              "          product_id  ... department_id\n",
              "count   49688.000000  ...  49688.000000\n",
              "unique           NaN  ...           NaN\n",
              "top              NaN  ...           NaN\n",
              "freq             NaN  ...           NaN\n",
              "mean    24844.500000  ...     11.728687\n",
              "std     14343.834425  ...      5.850410\n",
              "min         1.000000  ...      1.000000\n",
              "25%     12422.750000  ...      7.000000\n",
              "50%     24844.500000  ...     13.000000\n",
              "75%     37266.250000  ...     17.000000\n",
              "max     49688.000000  ...     21.000000\n",
              "\n",
              "[11 rows x 4 columns]"
            ]
          },
          "metadata": {
            "tags": []
          }
        },
        {
          "output_type": "stream",
          "text": [
            "\n",
            "############################## SAMPLE SUBMISSION ##############################\n",
            "Overview\n"
          ],
          "name": "stdout"
        },
        {
          "output_type": "display_data",
          "data": {
            "text/html": [
              "<div>\n",
              "<style scoped>\n",
              "    .dataframe tbody tr th:only-of-type {\n",
              "        vertical-align: middle;\n",
              "    }\n",
              "\n",
              "    .dataframe tbody tr th {\n",
              "        vertical-align: top;\n",
              "    }\n",
              "\n",
              "    .dataframe thead th {\n",
              "        text-align: right;\n",
              "    }\n",
              "</style>\n",
              "<table border=\"1\" class=\"dataframe\">\n",
              "  <thead>\n",
              "    <tr style=\"text-align: right;\">\n",
              "      <th></th>\n",
              "      <th>order_id</th>\n",
              "      <th>products</th>\n",
              "    </tr>\n",
              "  </thead>\n",
              "  <tbody>\n",
              "    <tr>\n",
              "      <th>0</th>\n",
              "      <td>17</td>\n",
              "      <td>39276 29259</td>\n",
              "    </tr>\n",
              "    <tr>\n",
              "      <th>1</th>\n",
              "      <td>34</td>\n",
              "      <td>39276 29259</td>\n",
              "    </tr>\n",
              "    <tr>\n",
              "      <th>2</th>\n",
              "      <td>137</td>\n",
              "      <td>39276 29259</td>\n",
              "    </tr>\n",
              "    <tr>\n",
              "      <th>3</th>\n",
              "      <td>182</td>\n",
              "      <td>39276 29259</td>\n",
              "    </tr>\n",
              "    <tr>\n",
              "      <th>4</th>\n",
              "      <td>257</td>\n",
              "      <td>39276 29259</td>\n",
              "    </tr>\n",
              "  </tbody>\n",
              "</table>\n",
              "</div>"
            ],
            "text/plain": [
              "   order_id     products\n",
              "0        17  39276 29259\n",
              "1        34  39276 29259\n",
              "2       137  39276 29259\n",
              "3       182  39276 29259\n",
              "4       257  39276 29259"
            ]
          },
          "metadata": {
            "tags": []
          }
        },
        {
          "output_type": "stream",
          "text": [
            "Summary\n"
          ],
          "name": "stdout"
        },
        {
          "output_type": "display_data",
          "data": {
            "text/html": [
              "<div>\n",
              "<style scoped>\n",
              "    .dataframe tbody tr th:only-of-type {\n",
              "        vertical-align: middle;\n",
              "    }\n",
              "\n",
              "    .dataframe tbody tr th {\n",
              "        vertical-align: top;\n",
              "    }\n",
              "\n",
              "    .dataframe thead th {\n",
              "        text-align: right;\n",
              "    }\n",
              "</style>\n",
              "<table border=\"1\" class=\"dataframe\">\n",
              "  <thead>\n",
              "    <tr style=\"text-align: right;\">\n",
              "      <th></th>\n",
              "      <th>order_id</th>\n",
              "      <th>products</th>\n",
              "    </tr>\n",
              "  </thead>\n",
              "  <tbody>\n",
              "    <tr>\n",
              "      <th>count</th>\n",
              "      <td>7.500000e+04</td>\n",
              "      <td>75000</td>\n",
              "    </tr>\n",
              "    <tr>\n",
              "      <th>unique</th>\n",
              "      <td>NaN</td>\n",
              "      <td>1</td>\n",
              "    </tr>\n",
              "    <tr>\n",
              "      <th>top</th>\n",
              "      <td>NaN</td>\n",
              "      <td>39276 29259</td>\n",
              "    </tr>\n",
              "    <tr>\n",
              "      <th>freq</th>\n",
              "      <td>NaN</td>\n",
              "      <td>75000</td>\n",
              "    </tr>\n",
              "    <tr>\n",
              "      <th>mean</th>\n",
              "      <td>1.709686e+06</td>\n",
              "      <td>NaN</td>\n",
              "    </tr>\n",
              "    <tr>\n",
              "      <th>std</th>\n",
              "      <td>9.878542e+05</td>\n",
              "      <td>NaN</td>\n",
              "    </tr>\n",
              "    <tr>\n",
              "      <th>min</th>\n",
              "      <td>1.700000e+01</td>\n",
              "      <td>NaN</td>\n",
              "    </tr>\n",
              "    <tr>\n",
              "      <th>25%</th>\n",
              "      <td>8.557232e+05</td>\n",
              "      <td>NaN</td>\n",
              "    </tr>\n",
              "    <tr>\n",
              "      <th>50%</th>\n",
              "      <td>1.710152e+06</td>\n",
              "      <td>NaN</td>\n",
              "    </tr>\n",
              "    <tr>\n",
              "      <th>75%</th>\n",
              "      <td>2.562794e+06</td>\n",
              "      <td>NaN</td>\n",
              "    </tr>\n",
              "    <tr>\n",
              "      <th>max</th>\n",
              "      <td>3.421054e+06</td>\n",
              "      <td>NaN</td>\n",
              "    </tr>\n",
              "  </tbody>\n",
              "</table>\n",
              "</div>"
            ],
            "text/plain": [
              "            order_id     products\n",
              "count   7.500000e+04        75000\n",
              "unique           NaN            1\n",
              "top              NaN  39276 29259\n",
              "freq             NaN        75000\n",
              "mean    1.709686e+06          NaN\n",
              "std     9.878542e+05          NaN\n",
              "min     1.700000e+01          NaN\n",
              "25%     8.557232e+05          NaN\n",
              "50%     1.710152e+06          NaN\n",
              "75%     2.562794e+06          NaN\n",
              "max     3.421054e+06          NaN"
            ]
          },
          "metadata": {
            "tags": []
          }
        }
      ]
    },
    {
      "cell_type": "markdown",
      "metadata": {
        "id": "4b2f3544"
      },
      "source": [
        "I have created a table below explaining my understanding of the datasets and also proposed hypothesis or metrics or questions that we can solve for. hypothesis here means that I think these metrics might have an impact on our objective function i.e. probability to reorder"
      ],
      "id": "4b2f3544"
    },
    {
      "cell_type": "markdown",
      "metadata": {
        "id": "uU9n3Zh_6r6w"
      },
      "source": [
        "### ADD PICTURE OF TABLE HERE INSTEAD - RENAME TABLES"
      ],
      "id": "uU9n3Zh_6r6w"
    },
    {
      "cell_type": "markdown",
      "metadata": {
        "id": "44ffe201"
      },
      "source": [
        "| Table Name | Column Names | Description | Hypothesis for Data Exploration  |\n",
        "| --- | --- | --- | --- | \n",
        "| df_aisles | aisle_id, aisle | 134 unique IDs, names for different aisles at Instacart | aisle which generates highest revenue, most frequently used aisle, distribution of aisle usage based on demographics and other customer info, is there a trend of aisle popularity with time of day, day of week, or any specific month of year? |\n",
        "| df_dept | department_id, department | 21 unique IDs, names for different departments including 'missing' - looks like the rolled-up metric for aisles e.g. one department might have multiple aisles | revenue by dept, frequency of use by dept, distribution of dept usage based on demographics and other available customer info, dept popularity by time of day, day of week, or any specific month of year  |\n",
        "| df_prior_orders | order_id, product_id, add_to_cart_order, reordered | 32,434,489 rows at order-product level with 3,214,874 unique orders for 49,677 unique products. 'add_to_cart_order' shows the order in which they were added to the cart and 'reordered' | most ordered products, most frequent re-ordered products, products which are only ordered once and not reordered, Number of products in one order, are the products that are ordered together from the same aisle/dept? |\n",
        " | df_orders_train | order_id, product_id, add_to_cart_order, reordered | Similar to df_prior_orders but only has latest order information. 1,384,617 rows with 131,209 unique order IDs and 39,123  | most ordered products, most frequent re-ordered products, products which are only ordered once and not reordered, Number of products in one order, are the products that are ordered together from the same aisle/dept? |\n",
        "| df_orders | order_id, user_id, eval_set, order_number, order_dow, order_hour_of_day, days_since_prior_order | 3,421,083 orders showing information on order ID, user ID, which evaluation dataset the order is in (prior, train, test), day of week, hour of day, days since prior order | Most popular day & time for placing an order, trend of day & time by products |\n",
        "| df_products | product_id, product_name, aisle_id, department_id | 49,688 rows mapping products to aisles and departments |\tcovered in above metrics |\n"
      ],
      "id": "44ffe201"
    },
    {
      "cell_type": "code",
      "metadata": {
        "id": "415cc3be"
      },
      "source": [
        "# STEP 3: look at charts and summaries\n",
        "\n",
        "def CreateCharts (ax, data, x, y, chart_type, legend = False, size = 5, hue = None, palette=None):\n",
        "    if chart_type == \"scatter\":\n",
        "        plot = sns.scatterplot(data=data, x=x, y=y, size=size, legend=legend, \n",
        "                hue=hue, sizes=(20, 200), palette = palette, ax=ax)\n",
        "    elif chart_type == \"bar\":\n",
        "        plot = sns.barplot(x=x, y=y, data=data, \n",
        "                hue=hue, palette = palette, ax=ax)\n",
        "    elif chart_type == \"density\":\n",
        "        plot = sns.kdeplot(x=x, data=data, \n",
        "                shade=True, alpha=0.5, ax=ax)        \n",
        "    return plot"
      ],
      "id": "415cc3be",
      "execution_count": 16,
      "outputs": []
    },
    {
      "cell_type": "code",
      "metadata": {
        "id": "fe468ac5",
        "outputId": "f5430d3f-1b52-44be-e7a4-391aca71108c",
        "colab": {
          "base_uri": "https://localhost:8080/",
          "height": 657
        }
      },
      "source": [
        "# 1. orders\n",
        "# > Most ordered products\n",
        "# > Number of products in one order\n",
        "# > Trend of Orders by day and time\n",
        "\n",
        "fig, ax = plt.subplots(2,2, figsize=(20,10))\n",
        "\n",
        "# Plot 1\n",
        "orders_products = pd.merge(pd.concat([all_dfs['order_products__train'], all_dfs['order_products__train']]),all_dfs['products'],how=\"left\",on=\"product_id\")\n",
        "data = orders_products.groupby(['product_id','product_name']).size().reset_index(name='Number of Orders').sort_values(by='Number of Orders', ascending=False)\n",
        "data = data.head(25)\n",
        "\n",
        "ax[0,0] = CreateCharts(ax[0,0], data, \"product_name\", \"Number of Orders\", \"bar\", palette = \"Set2\")\n",
        "ax[0,0].set_xticklabels(data['product_name'], rotation = 90)\n",
        "ax[0,0].set_title('Top 10 Ordered Products', fontsize=15)\n",
        "\n",
        "# Plot 2\n",
        "data = orders_products.groupby('order_id').size().reset_index(name='Number of Products').sort_values(by='Number of Products', ascending=False)\n",
        "ax[0,1] = CreateCharts(ax[0,1], data, x = \"Number of Products\", y=None, chart_type = \"density\")\n",
        "ax[0,1].set_title('Number of Products in a Order', fontsize=15)\n",
        "\n",
        "\n",
        "# Plot 3\n",
        "ax[1,0] = CreateCharts(ax[1,0], \n",
        "            all_dfs['orders'][all_dfs['orders']['eval_set']!='test'].groupby('order_dow').size().reset_index(name='Number of Orders'),\n",
        "            \"order_dow\", \"Number of Orders\", \"bar\", palette = 'muted')\n",
        "ax[1,0].set_title('Number of Orders by day', fontsize=15)\n",
        "\n",
        "# Plot 4\n",
        "ax[1,1] = CreateCharts(ax[1,1], \n",
        "            all_dfs['orders'][all_dfs['orders']['eval_set']!='test'].groupby('order_hour_of_day').size().reset_index(name='Number of Orders'),\n",
        "            \"order_hour_of_day\", \"Number of Orders\", \"bar\", palette = None)\n",
        "ax[1,1].set_title('Number of Orders by hour', fontsize=15)\n",
        "\n",
        "plt.subplots_adjust(left=0.125,\n",
        "                    bottom=0.1, \n",
        "                    right=0.9, \n",
        "                    top=0.9, \n",
        "                    wspace=0.2, \n",
        "                    hspace=1)\n",
        "\n",
        "plt.show()"
      ],
      "id": "fe468ac5",
      "execution_count": 18,
      "outputs": [
        {
          "output_type": "display_data",
          "data": {
            "image/png": "[encoded data removed]",
            "text/plain": [
              "<Figure size 1440x720 with 4 Axes>"
            ]
          },
          "metadata": {
            "tags": [],
            "needs_background": "light"
          }
        }
      ]
    },
    {
      "cell_type": "code",
      "metadata": {
        "id": "b0df1333"
      },
      "source": [
        "# We can also combine hour and day to see dist.\n",
        "\n",
        "fig, ax = plt.subplots(figsize=(14,6))\n",
        "\n",
        "ax = CreateCharts(ax,\n",
        "    df_orders[df_orders['eval_set']!='test'].groupby(['order_dow', 'order_hour_of_day']).size().reset_index(name='orders'),\n",
        "    \"order_dow\", \"order_hour_of_day\", \"scatter\", legend=False, size=\"orders\", hue = \"orders\")\n",
        "ax.set_title('Number of Orders by day and hour', fontsize=15)\n",
        "\n",
        "plt.show()"
      ],
      "id": "b0df1333",
      "execution_count": null,
      "outputs": []
    },
    {
      "cell_type": "code",
      "metadata": {
        "id": "b7d8c635"
      },
      "source": [
        "# 2. reorders\n",
        "# > How many current orders (train set) are also previously ordered (prior orders)\n",
        "# > products which are most likely to be reordered, is there any trend in reorders vs orders\n",
        "# > Number of orders and period of reorders"
      ],
      "id": "b7d8c635",
      "execution_count": null,
      "outputs": []
    },
    {
      "cell_type": "code",
      "metadata": {
        "id": "7c795d6c"
      },
      "source": [
        "# 3. aisles\n",
        "# > Number of products in each aisle\n",
        "# > Number of orders in each aisle (combine this with above?)\n",
        "# > dow and hour of day for aisle\n",
        "# > reorder period for each aisle, most reorders by each aisle\n",
        "# > are the products from the same aisle ordered together"
      ],
      "id": "7c795d6c",
      "execution_count": null,
      "outputs": []
    },
    {
      "cell_type": "code",
      "metadata": {
        "id": "f951fa5d"
      },
      "source": [
        "# 4. departments\n",
        "# > Number of products in each dept\n",
        "# > Number of orders in each dept (combine this with above?)\n",
        "# > dow and hour of day for dept\n",
        "# > reorder period for each dept, most reorders by each dept\n",
        "# > are the products from the same dept ordered together"
      ],
      "id": "f951fa5d",
      "execution_count": null,
      "outputs": []
    },
    {
      "cell_type": "markdown",
      "metadata": {
        "id": "a33d5437"
      },
      "source": [
        "## 3. Data Cleaning\n",
        "\n",
        "what are the different types of checks in cleaning\n",
        "\n",
        "* identify missings\n",
        "* identify outliers\n",
        "* check for overall plausibility and errors (e.g, typos)\n",
        "* identify highly correlated variables\n",
        "* identify variables with (nearly) no variance\n",
        "* identify variables with strange names or values\n",
        "* check variable classes (eg. characters vs factors)\n",
        "* remove/transform some variables (maybe your model does not like categorial variables)\n",
        "* rename some variables or values (especially interesting if large number)\n",
        "* check some overall pattern (statistical/ numerical summaries)\n",
        "* center/scale variables"
      ],
      "id": "a33d5437"
    },
    {
      "cell_type": "code",
      "metadata": {
        "id": "fd4fdce7"
      },
      "source": [
        ""
      ],
      "id": "fd4fdce7",
      "execution_count": null,
      "outputs": []
    },
    {
      "cell_type": "markdown",
      "metadata": {
        "id": "76c73f91"
      },
      "source": [
        "## 4. Data Wrangling\n",
        "\n",
        "convert data to a format which you can use in segmentation modelling - makes it easy"
      ],
      "id": "76c73f91"
    },
    {
      "cell_type": "code",
      "metadata": {
        "id": "cda98885"
      },
      "source": [
        ""
      ],
      "id": "cda98885",
      "execution_count": null,
      "outputs": []
    },
    {
      "cell_type": "markdown",
      "metadata": {
        "id": "df259f88"
      },
      "source": [
        "## 5. Feature Engineering\n",
        "\n",
        "add any new variables you'd like to use -- like the ones above or RFM or use PCA to create new features\n",
        "\n",
        "can use random forest here?"
      ],
      "id": "df259f88"
    },
    {
      "cell_type": "code",
      "metadata": {
        "id": "c7882cc1"
      },
      "source": [
        ""
      ],
      "id": "c7882cc1",
      "execution_count": null,
      "outputs": []
    },
    {
      "cell_type": "markdown",
      "metadata": {
        "id": "480b7d01"
      },
      "source": [
        "## 5b Feature Selection?"
      ],
      "id": "480b7d01"
    },
    {
      "cell_type": "code",
      "metadata": {
        "id": "f1319aaa"
      },
      "source": [
        ""
      ],
      "id": "f1319aaa",
      "execution_count": null,
      "outputs": []
    },
    {
      "cell_type": "markdown",
      "metadata": {
        "id": "8825ef63"
      },
      "source": [
        "## 6. Modelling\n",
        "\n",
        "1. select model - supervised vs unsupervised\n",
        "2. hyperpamarters? what other decisions?\n",
        "\n",
        "#### do you need to define an objective function?\n",
        "\n",
        "objective based segmentation vs not\n",
        "\n",
        "\n",
        "#### how to select a model 101?"
      ],
      "id": "8825ef63"
    },
    {
      "cell_type": "markdown",
      "metadata": {
        "id": "042171bc"
      },
      "source": [
        "### given the conditions - I selected to use k-means"
      ],
      "id": "042171bc"
    },
    {
      "cell_type": "code",
      "metadata": {
        "id": "f538d639"
      },
      "source": [
        "# STEP 1: Select value of k"
      ],
      "id": "f538d639",
      "execution_count": null,
      "outputs": []
    },
    {
      "cell_type": "code",
      "metadata": {
        "id": "82f0bae3"
      },
      "source": [
        "# STEP 2: Select features - can do PCA or RFM"
      ],
      "id": "82f0bae3",
      "execution_count": null,
      "outputs": []
    },
    {
      "cell_type": "code",
      "metadata": {
        "id": "15f917a1"
      },
      "source": [
        "# STEP 3: k means implementation in AWS"
      ],
      "id": "15f917a1",
      "execution_count": null,
      "outputs": []
    },
    {
      "cell_type": "markdown",
      "metadata": {
        "id": "7f5dda69"
      },
      "source": [
        "## 7. Narrative"
      ],
      "id": "7f5dda69"
    },
    {
      "cell_type": "code",
      "metadata": {
        "id": "4e419a3e"
      },
      "source": [
        ""
      ],
      "id": "4e419a3e",
      "execution_count": null,
      "outputs": []
    },
    {
      "cell_type": "markdown",
      "metadata": {
        "id": "ab25e0dc"
      },
      "source": [
        "## 8. Predict"
      ],
      "id": "ab25e0dc"
    },
    {
      "cell_type": "code",
      "metadata": {
        "id": "f236c817"
      },
      "source": [
        ""
      ],
      "id": "f236c817",
      "execution_count": null,
      "outputs": []
    },
    {
      "cell_type": "markdown",
      "metadata": {
        "id": "3ac18b96"
      },
      "source": [
        "## Bonus!"
      ],
      "id": "3ac18b96"
    },
    {
      "cell_type": "markdown",
      "metadata": {
        "id": "f892cd42"
      },
      "source": [
        "1. when and how to use supervised learning in Segmentaiton\n",
        "2. how to use objective function\n",
        "3. XGBOOST"
      ],
      "id": "f892cd42"
    },
    {
      "cell_type": "code",
      "metadata": {
        "id": "8e1c1d7b"
      },
      "source": [
        ""
      ],
      "id": "8e1c1d7b",
      "execution_count": null,
      "outputs": []
    }
  ]
}