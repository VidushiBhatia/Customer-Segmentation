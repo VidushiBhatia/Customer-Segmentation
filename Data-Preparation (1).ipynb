{
 "cells": [
  {
   "cell_type": "markdown",
   "id": "f256468c",
   "metadata": {},
   "source": [
    "# Customer Segmentation - Data Preparation"
   ]
  },
  {
   "cell_type": "markdown",
   "id": "13327d31",
   "metadata": {},
   "source": [
    "## 1. Packages"
   ]
  },
  {
   "cell_type": "code",
   "execution_count": 1,
   "id": "067b35d2",
   "metadata": {},
   "outputs": [],
   "source": [
    "import pandas as pd"
   ]
  },
  {
   "cell_type": "markdown",
   "id": "5f7b2282",
   "metadata": {},
   "source": [
    "## 2. Understanding the Data\n",
    "Before we create a data-driven solution, we'll first understand what does the data consist of:\n",
    "   * Read all the files\n",
    "   * Look at columns and determine which files are relevant\n",
    "   * For convinience, create a master dataset - assume missing values to be NA for now"
   ]
  },
  {
   "cell_type": "code",
   "execution_count": 2,
   "id": "d80ea80b",
   "metadata": {},
   "outputs": [
    {
     "ename": "SyntaxError",
     "evalue": "(unicode error) 'unicodeescape' codec can't decode bytes in position 2-3: truncated \\UXXXXXXXX escape (<ipython-input-2-8a142dffa575>, line 8)",
     "output_type": "error",
     "traceback": [
      "\u001b[1;36m  File \u001b[1;32m\"<ipython-input-2-8a142dffa575>\"\u001b[1;36m, line \u001b[1;32m8\u001b[0m\n\u001b[1;33m    s3_bucket = 'C:\\Users\\vb18625\\Desktop\\WD\\PYTHON\\07 Segmentation\\instacart-market-basket-analysis'\u001b[0m\n\u001b[1;37m                ^\u001b[0m\n\u001b[1;31mSyntaxError\u001b[0m\u001b[1;31m:\u001b[0m (unicode error) 'unicodeescape' codec can't decode bytes in position 2-3: truncated \\UXXXXXXXX escape\n"
     ]
    }
   ],
   "source": [
    "# STEP 1: Read all the files\n",
    "\n",
    "def read_data(s3_bucket, file_path):\n",
    "    df = pd.read_csv( s3_bucket + file_path )\n",
    "    return df\n",
    "\n",
    "# s3_bucket = \"s3://instacart-segmentation/\"\n",
    "s3_bucket = 'C:\\Users\\vb18625\\Desktop\\WD\\PYTHON\\07 Segmentation\\instacart-market-basket-analysis'\n",
    "df_aisles = read_data(s3_bucket, \"aisles.csv/aisles.csv\")\n",
    "df_dept = read_data(s3_bucket, \"departments.csv/departments.csv\")\n",
    "df_prior_orders = read_data(s3_bucket, \"order_products__prior.csv/order_products__prior.csv\")\n",
    "df_orders_train = read_data(s3_bucket, \"order_products__train.csv/order_products__train.csv\")\n",
    "df_orders = read_data(s3_bucket, \"orders.csv/orders.csv\")\n",
    "df_products = read_data(s3_bucket, \"products.csv/products.csv\")\n",
    "df_sample = read_data(s3_bucket, \"sample_submission.csv/sample_submission.csv\")"
   ]
  },
  {
   "cell_type": "code",
   "execution_count": null,
   "id": "77d93c33",
   "metadata": {},
   "outputs": [],
   "source": [
    "# STEP 2: Look at columns, summaries and determine which files are relevant. Summarize what does each file contain.\n",
    "\n",
    "# print(\"\\ndf_aisles\")\n",
    "# display(df_aisles)\n",
    "# QC Check: \n",
    "# display(df_aisles.groupby('aisle').count()) \n",
    "# display(df_aisles.groupby('aisle_id').count())\n",
    "# print(\"\\ndf_dept\")\n",
    "# display(df_dept)\n",
    "# QC Check: \n",
    "# print(len(df_dept.groupby('department_id')))\n",
    "# print(len(df_dept.groupby('department')))\n",
    "\n",
    "print(\"\\ndf_prior_orders\")\n",
    "display(df_prior_orders)\n",
    "print(len(df_prior_orders.groupby('order_id')))\n",
    "print(len(df_prior_orders.groupby('product_id')))\n",
    "print(len(df_prior_orders.groupby('order_id', 'product_id')))\n",
    "# print(\"\\ndf_orders_train\")\n",
    "# display(df_orders_train.head(10))\n",
    "# print(\"\\ndf_orders\")\n",
    "# display(df_orders.head(10))\n",
    "# print(\"\\ndf_products\")\n",
    "# display(df_products.head(10))\n",
    "# print(\"\\ndf_sample\")\n",
    "# display(df_sample.head(10))"
   ]
  },
  {
   "cell_type": "markdown",
   "id": "4b2f3544",
   "metadata": {},
   "source": [
    "I have created a table below explaining my understanding of the datasets"
   ]
  },
  {
   "cell_type": "markdown",
   "id": "44ffe201",
   "metadata": {},
   "source": [
    "| Table Name | Column Names | Description | Usefulness | Hypothesis for Data Exploration  |\n",
    "| --- | --- | --- | --- | --- | \n",
    "| df_aisles | aisle_id, aisle | 134 unique IDs, names for different aisles at Instacart | MED | aisle which generates highest revenue, most frequently used aisle, distribution of aisle usage based on demographics and other customer info, is there a trend of aisle popularity with time of day, day of week, or any specific month of year? |\n",
    "| df_dept | department_id, department | 21 unique IDs, names for different departments at Instacart - looks like the rolled-up metric for aisles e.g. one department might have multiple aisles | MED | similar metrics to df_aisles  |\n",
    "| df_prior_orders | order_id, product_id, add_to_cart_order, reordered | 3,243,448 rows at order-product level with 3,346,083 unique orders for 49,685 unique products. | HIGH | Top 10 most re-ordered products, Top 10 most ordered products, Number of products in one order |\n",
    "| df_orders_train | order_id, product_id, add_to_cart_order, reordered | Similar to df_prior_orders but only has latest order information.  rows 1,384,617 xxxx | HIGH | similar metrics to df_prior_orders |\n",
    "| df_orders | order_id, user_id, eval_set, order_number, order_dow, order_hour_of_day, days_since_prior_order | 3,421,083 orders showing information on order ID, user ID, which evaluation dataset the order is in (prior, train, test), day of week, hour of day, days since prior order xxxx | HIGH | Most popular day & time for placing an order, trend of day & time by products, products which are ordered at a higher frequency,   |"
   ]
  },
  {
   "cell_type": "markdown",
   "id": "a33d5437",
   "metadata": {},
   "source": [
    "## 3. Data Cleaning"
   ]
  },
  {
   "cell_type": "code",
   "execution_count": null,
   "id": "cda98885",
   "metadata": {},
   "outputs": [],
   "source": []
  },
  {
   "cell_type": "markdown",
   "id": "e750d57c",
   "metadata": {},
   "source": [
    "## 4. Exploratory Data Analysis"
   ]
  },
  {
   "cell_type": "code",
   "execution_count": null,
   "id": "94c909e9",
   "metadata": {},
   "outputs": [],
   "source": []
  },
  {
   "cell_type": "markdown",
   "id": "df259f88",
   "metadata": {},
   "source": [
    "## 5. Feature Engineering"
   ]
  },
  {
   "cell_type": "code",
   "execution_count": null,
   "id": "c7882cc1",
   "metadata": {},
   "outputs": [],
   "source": []
  }
 ],
 "metadata": {
  "kernelspec": {
   "display_name": "Python 3",
   "language": "python",
   "name": "python3"
  },
  "language_info": {
   "codemirror_mode": {
    "name": "ipython",
    "version": 3
   },
   "file_extension": ".py",
   "mimetype": "text/x-python",
   "name": "python",
   "nbconvert_exporter": "python",
   "pygments_lexer": "ipython3",
   "version": "3.8.8"
  }
 },
 "nbformat": 4,
 "nbformat_minor": 5
}
